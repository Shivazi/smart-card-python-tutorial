{
 "cells": [
  {
   "cell_type": "markdown",
   "metadata": {},
   "source": [
    "# Smart Card Reader\n",
    "\n",
    "# Smart Card SLE4442"
   ]
  },
  {
   "cell_type": "code",
   "execution_count": 10,
   "metadata": {},
   "outputs": [
    {
     "name": "stdout",
     "output_type": "stream",
     "text": [
      "['ACS ACR 38U-CCID 00 00']\n"
     ]
    }
   ],
   "source": [
    "# ![title](img/picture.png)\n",
    "from smartcard.System import readers\n",
    "from smartcard.util import toHexString\n",
    "\n",
    "r=readers()\n",
    "print (r)\n",
    "\n",
    "connection = r[0].createConnection()\n",
    "connection.connect()"
   ]
  },
  {
   "cell_type": "markdown",
   "metadata": {},
   "source": [
    "![title](select.png)"
   ]
  },
  {
   "cell_type": "code",
   "execution_count": 11,
   "metadata": {},
   "outputs": [
    {
     "name": "stdout",
     "output_type": "stream",
     "text": [
      "Command: 90 00\n"
     ]
    }
   ],
   "source": [
    "\n",
    "# SELECT_CARD_TYPE for SLE4428\n",
    "# SELECT = [0xFF, 0xA4, 0x00, 0x00,0x01,0x05]\n",
    "\n",
    "# SELECT_CARD_TYPE for SLE4442\n",
    "SELECT = [0xFF, 0xA4, 0x00, 0x00,0x01,0x06]\n",
    "\n",
    "data, sw1, sw2 = connection.transmit(SELECT)\n",
    "print (\"Command: %02X %02X\" % (sw1, sw2))"
   ]
  },
  {
   "cell_type": "markdown",
   "metadata": {},
   "source": [
    "![title](read.png)"
   ]
  },
  {
   "cell_type": "code",
   "execution_count": 12,
   "metadata": {},
   "outputs": [
    {
     "name": "stdout",
     "output_type": "stream",
     "text": [
      "READ_MEMORY_CARD\n",
      "[1, 2, 3, 4]\n",
      "Command: 90 00\n"
     ]
    }
   ],
   "source": [
    "# READ_MEMORY_CARD\n",
    "SELECT = [0xFF, 0xB0,0x00,0b00000000,0x04]\n",
    "\n",
    "data, sw1, sw2 = connection.transmit(SELECT)\n",
    "print(\"READ_MEMORY_CARD\")\n",
    "print (data)\n",
    "print (\"Command: %02X %02X\" % (sw1, sw2))"
   ]
  },
  {
   "cell_type": "markdown",
   "metadata": {},
   "source": [
    "![title](sle4442.png)\n",
    "We can read Main Memory directly but update main memory, must be Authenticated.\n",
    "\n",
    "# AUTHENTICATE_MEMORY_CARD\n",
    "Pseudo-APDU\n",
    "\n",
    "CLA INS P1 P2 MEM_L Byte1 Byte2 Byte3\n",
    "\n",
    "FFh 20h 00h 00h 03h FF FF FF\n",
    "\n",
    "Byte 1 Byte 2 Byte 3\n",
    "\n",
    "Where:\n",
    "Three bytes secret code (PIN)\n",
    "\n",
    "Response Data Format (abData field in the RDR_to_PC_DataBlock)\n",
    "\n",
    "SW1 SW2\n",
    "\n",
    "Where:\n",
    "SW1 SW2 = 90 07h if no error\n"
   ]
  },
  {
   "cell_type": "code",
   "execution_count": 13,
   "metadata": {},
   "outputs": [
    {
     "name": "stdout",
     "output_type": "stream",
     "text": [
      "Authentication (PSC)\n",
      "Command: 90 07\n",
      "authentication successful\n"
     ]
    }
   ],
   "source": [
    "\n",
    "# Authentication (PSC)\n",
    "SELECT = [0xFF, 0x20, 0x00, 0x00,0x03,0xFF,0xFF,0xFF]\n",
    "\n",
    "data, sw1, sw2 = connection.transmit(SELECT)\n",
    "print(\"Authentication (PSC)\")\n",
    "\n",
    "print (\"Command: %02X %02X\" % (sw1, sw2))\n",
    "if sw1==144 and sw2==7:\n",
    "    print(\"authentication successful\")\n",
    "else:\n",
    "    print(\"authentication failed\")"
   ]
  },
  {
   "cell_type": "markdown",
   "metadata": {},
   "source": [
    "![title](write.png)"
   ]
  },
  {
   "cell_type": "code",
   "execution_count": 14,
   "metadata": {},
   "outputs": [
    {
     "name": "stdout",
     "output_type": "stream",
     "text": [
      "WRITE_MEMORY_CARD\n",
      "Command: 90 00\n"
     ]
    }
   ],
   "source": [
    "# WRITE_MEMORY_CARD\n",
    "SELECT = [0xFF, 0xD0, 0x00, 0b00000000,0x04,0x01, 0x02, 0x03, 0x05]\n",
    "\n",
    "data, sw1, sw2 = connection.transmit(SELECT)\n",
    "print(\"WRITE_MEMORY_CARD\")\n",
    "\n",
    "print (\"Command: %02X %02X\" % (sw1, sw2))"
   ]
  },
  {
   "cell_type": "markdown",
   "metadata": {},
   "source": [
    "READ_MEMORY_CARD "
   ]
  },
  {
   "cell_type": "code",
   "execution_count": 15,
   "metadata": {},
   "outputs": [
    {
     "name": "stdout",
     "output_type": "stream",
     "text": [
      "READ_MEMORY_CARD\n",
      "[1, 2, 3, 5]\n",
      "Command: 90 00\n"
     ]
    }
   ],
   "source": [
    "\n",
    "# READ_MEMORY_CARD\n",
    "SELECT = [0xFF, 0xB0,0x00,0b00000000,0x04]\n",
    "# print (\"READ_MEMORY_CARD:\",connection.transmit( SELECT))\n",
    "\n",
    "data, sw1, sw2 = connection.transmit(SELECT)\n",
    "print(\"READ_MEMORY_CARD\")\n",
    "print (data)\n",
    "print (\"Command: %02X %02X\" % (sw1, sw2))\n"
   ]
  },
  {
   "cell_type": "markdown",
   "metadata": {},
   "source": [
    "# Smart Card AT24C64\n",
    "no need Authentication"
   ]
  },
  {
   "cell_type": "code",
   "execution_count": 16,
   "metadata": {},
   "outputs": [
    {
     "name": "stdout",
     "output_type": "stream",
     "text": [
      "['ACS ACR 38U-CCID 00 00']\n",
      "SELECT_CARD_TYPE: ([], 144, 0)\n",
      "READ_MEMORY_CARD\n",
      "[1, 2, 3, 5]\n",
      "Command: 90 00\n",
      "WRITE_MEMORY_CARD\n",
      "[]\n",
      "Command: 90 00\n",
      "READ_MEMORY_CARD\n",
      "[17, 2, 35, 53]\n",
      "Command: 90 00\n"
     ]
    }
   ],
   "source": [
    "# at24c64 smart card\n",
    "from smartcard.System import readers\n",
    "from smartcard.util import toHexString\n",
    "\n",
    "r=readers()\n",
    "print (r)\n",
    "\n",
    "connection = r[0].createConnection()\n",
    "connection.connect()\n",
    "# print(connection.getProtocol())\n",
    "\n",
    "# SELECT_CARD_TYPE AT24C64 smart card\n",
    "SELECT = [0xFF, 0xA4, 0x00, 0x00,0x01,0x02]\n",
    "print (\"SELECT_CARD_TYPE:\",connection.transmit( SELECT))\n",
    "\n",
    "\n",
    "# READ_MEMORY_CARD\n",
    "SELECT = [0xFF, 0xB0,0x00,0b00000000,0x04]\n",
    "# print (\"READ_MEMORY_CARD:\",connection.transmit( SELECT))\n",
    "\n",
    "data, sw1, sw2 = connection.transmit(SELECT)\n",
    "print(\"READ_MEMORY_CARD\")\n",
    "print (data)\n",
    "print (\"Command: %02X %02X\" % (sw1, sw2))\n",
    "\n",
    "# WRITE_MEMORY_CARD\n",
    "SELECT = [0xFF, 0xD0, 0x00, 0b00000000,0x04,0x11, 0x02, 0x23, 0x35]\n",
    "\n",
    "data, sw1, sw2 = connection.transmit(SELECT)\n",
    "print(\"WRITE_MEMORY_CARD\")\n",
    "print (data)\n",
    "print (\"Command: %02X %02X\" % (sw1, sw2))\n",
    "\n",
    "# READ_MEMORY_CARD\n",
    "SELECT = [0xFF, 0xB0,0x00,0b00000000,0x04]\n",
    "# print (\"READ_MEMORY_CARD:\",connection.transmit( SELECT))\n",
    "\n",
    "data, sw1, sw2 = connection.transmit(SELECT)\n",
    "print(\"READ_MEMORY_CARD\")\n",
    "print (data)\n",
    "print (\"Command: %02X %02X\" % (sw1, sw2))\n"
   ]
  },
  {
   "cell_type": "code",
   "execution_count": null,
   "metadata": {},
   "outputs": [],
   "source": []
  }
 ],
 "metadata": {
  "kernelspec": {
   "display_name": "Python 3",
   "language": "python",
   "name": "python3"
  },
  "language_info": {
   "codemirror_mode": {
    "name": "ipython",
    "version": 3
   },
   "file_extension": ".py",
   "mimetype": "text/x-python",
   "name": "python",
   "nbconvert_exporter": "python",
   "pygments_lexer": "ipython3",
   "version": "3.6.5"
  }
 },
 "nbformat": 4,
 "nbformat_minor": 2
}
